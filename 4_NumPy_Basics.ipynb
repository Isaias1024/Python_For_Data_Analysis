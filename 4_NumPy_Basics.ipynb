{
 "cells": [
  {
   "attachments": {},
   "cell_type": "markdown",
   "metadata": {},
   "source": [
    "#Numpy\n",
    "'atajo para las funciones numericas de python, el mas importante'\n",
    "'alguna de las cosas que encontraremoc seran ndarray: arreglos multidimencionales providing velocidad a las operaciones aritmeticas y flexible broadcasting'\n",
    "'funciones matematicas para operaciones rapidas en toda el arreglo de datos sin uso de loops'\n",
    "'leer/escribir datos al disk y trabar con memoria mapped files'\n",
    "'algebra lineal, generacion de numeros randosm, transformadas de furier'\n",
    "\n",
    "'Cubri remos vectorizacion de arreglos rapidos operations para data muginf and cleaning, subsetting y filtrasdo, transformacion uy mas manipulaciones'\n",
    "'Algoritmos comunes en arreglos, sorting, unique and sets\n",
    "Eficiencia descriptiva estadistica, agrecacion y resumend e datos\n",
    "Data alifnment y relacional manipulacion para unir y poner junta fatasets heterogeneos\n",
    "agrupacion y manipulacion"
   ]
  },
  {
   "cell_type": "code",
   "execution_count": null,
   "metadata": {},
   "outputs": [],
   "source": [
    "import numpy as np"
   ]
  },
  {
   "cell_type": "code",
   "execution_count": null,
   "metadata": {},
   "outputs": [],
   "source": [
    "'Para dar un ejemplo de la eficiencia consideremos lo siguiente un arreglo de 1M de integers'\n",
    "import numpy as np\n",
    "\n",
    "my_arry = np.arange(1000000)\n",
    "my_list = list(range(1000000))\n",
    "\n",
    "%time for _ in range(10): my_arr2 = my_arry * 2\n",
    "\n",
    "%timne for _ in range(10): my_list2 = [x * 2 for x in my_list]\n",
    "\n",
    "'si ven es 10 veces mas rapido'\n"
   ]
  },
  {
   "cell_type": "code",
   "execution_count": null,
   "metadata": {},
   "outputs": [],
   "source": [
    "#Multidimensional Array Object\n",
    "'Uno de los features key de nuympy es su N-Dimensional arreglo o ndarray, es rapido  y flexible para los datasets'\n",
    "'permitiendonos realizar operaciones matematical a todo un blode de datos'\n",
    "\n",
    "import numpy as np\n",
    "\n",
    "#generate random data\n",
    "data = np.random.randn(2,3)\n",
    "data\n",
    "data * 10\n",
    "data + data\n",
    "'aqui aplicando una operacion noraml vemos como se aplica a todo el arreglo'\n",
    "\n",
    "'ndarray es multidimensional contenedor para datos homogeneos, mismo tipo'\n",
    "data.shape\n",
    "\n",
    "data.dtype\n",
    "\n"
   ]
  },
  {
   "cell_type": "code",
   "execution_count": null,
   "metadata": {},
   "outputs": [],
   "source": [
    "#Creando un ndarry\n",
    "'la forma dfacil de crar un array es usar la funcion array, esto acepta cualquier secuencia como objetos, otros array etx y produce un nuevo Numpy array contendiendo los datos pasado'\n",
    "data1 = [6,7.6, 8,0,1]\n",
    "arr1 = np.array(data1)\n",
    "'secuencia anidada, como una lista un lista de igual longitus la convertimos en un array multidimensional'\n",
    "data2 = [[1,2,3,4],[5,6,7,8]]\n",
    "arr2 = np.array(data2)\n",
    "arr2\n",
    "'como data2 era una lista de listas, arr2 ahora tiene 2 dimensiones con shape interfiriendo en los datos. para confirmar esto podemos inspeccionarla con shape'\n",
    "arr2.ndim\n",
    "\n",
    "arr2.shape\n",
    "\n",
    "'np.array tiene mas funciones para crear nuevos arreglos, como ejemplo zeros y ones, para crear arreglos con 0s o 2s respectivamente'\n",
    "np.zeros(10)\n",
    "\n",
    "np.zeros((3,6))\n",
    "\n",
    "np.ones(10)\n",
    "np.ones((3,6))\n",
    "\n",
    "np.empty((2,3,2)) #cuidado muchas veces regresa basura\n",
    "\n",
    "np.arange(15)\n"
   ]
  },
  {
   "cell_type": "code",
   "execution_count": null,
   "metadata": {},
   "outputs": [],
   "source": [
    "#datatypes for ndarrays\n",
    "'dtypes es un objeto especial que contiene informacion (metadata, datos de los datos) que ndarray necesita para interpretar a chunk of memory para esa particular tipo de datos'\n",
    "arr1 = np.array([1,2,3], dtype=np.float64)\n",
    "arr2 = np.array([1,2,3], dtype=np.int32)\n",
    "\n",
    "arr1.dtype\n",
    "arr2.dtype\n",
    "\n",
    "'esto se utiliza para mapear directamente la memoria en el disco, haciendo mas rapida la lectura stream de los datos, pero no entraremos a detalle solo '\n",
    "\n",
    "'tambien podemos explicitamente hacer un cast'\n",
    "arr = np.array([1,2,3,4,5])\n",
    "arr.dtype\n",
    "\n",
    "float_arr = arr.astype(np.float64)\n",
    "float_arr.dtype\n",
    "\n",
    "'ejemplo con valores de int a float y al revez'\n",
    "\n"
   ]
  },
  {
   "cell_type": "code",
   "execution_count": null,
   "metadata": {},
   "outputs": [],
   "source": [
    "#funciones aritmeticas con numPy arrays\n",
    "'con numpy le llamamos vectotrizacion, cualquier funcion aritmetica de arreglo del mismo size puede aplicarse'\n",
    "\n",
    "arr = np.array([[1.,2.,3.],[4.,5.,6.]])\n",
    "arr\n",
    "\n",
    "'se hace la operacion al mismo valor'\n",
    "arr * arr\n",
    "arr - arr\n",
    "\n",
    "'le podemos poner argunemts'\n",
    "1 / arr\n",
    "\n",
    "'podemos hacer comparaciones entre arreglos del mismo tama;o y el resultado sera boolean'\n",
    "arr2 = np.array([[0.,0.5,0.3,],[0.25,1.41,0.155]])\n",
    "\n",
    "arr1 > arr2\n",
    "\n"
   ]
  },
  {
   "cell_type": "code",
   "execution_count": null,
   "metadata": {},
   "outputs": [],
   "source": [
    "#Basic indexing and slicing\n",
    "'existen muchas maneras de obtener un subset de elemtos, una dimension es similar a una lista'\n",
    "arr = np.arange(10)\n",
    "\n",
    "arr[5]\n",
    "\n",
    "arr[5:8]\n",
    "\n",
    "arr[5:8] =12\n",
    "arr\n",
    "\n",
    "'aqui podemos ver como obtenemos un lugar, un rango de valores y como le asignamos un valor a ese mismo rango'\n",
    "'Es importante hacer una distincion entre python built-in list es que los slices array son vistas del array origianl, esto significa que los datos no son copias, y cualquier modificacion a la vista se vera reflejada al codigo'\n",
    "\n",
    "arr_slice = arr[5:8]\n",
    "arr_slice\n",
    "\n",
    "'ahora si modificamos los valores de esta slice, estos se veran reflejados en el original (aqui entra el depp y shadow copy)'\n",
    "arr_slice[1] = 12345\n",
    "arr\n",
    "\n",
    "'el bare slice [:] los dos puntos asignan los valores a todo el arreglo'\n",
    "arr_slice[:] = 1\n",
    "arr\n",
    "\n",
    "'como rapido podemos utilizar .copy() para crear una copia explicita del arreglo y asi ya no modificar la original'\n",
    "\n",
    "'con los arreglos multidimensionales tenemos mas opciones, los indices ya no son scalar but reather una dimension array'\n",
    "\n",
    "arr2d = np.array([[1,2,3],[4,5,6]])\n",
    "arr2d[0]\n",
    "\n",
    "'para acceder a cada elemtos [][] pero es mas trabajo asi que podemos acceder con una coma separando los indicez'\n",
    "arr2d[0,2]\n",
    "\n",
    "'en los multidimensionaes, si omitimos los indices, el objeto regresado sera el lA DIMENSION MAS BAJA CONTENIENDO TODA LA DATA, pagina 169'\n",
    "#2 x 2 x 3\n",
    "arr3d = np.array([[[1,2,3],[4,5,6]],[[7,8,9],[10,11,12]]])\n",
    "arr3d\n",
    "\n",
    "'2x3'\n",
    "arr3d[0]\n",
    "\n",
    "'ambas valores scalar  pueden ser asignados al arreglo en [0] '\n",
    "old_val = arr3d[0].copy()\n",
    "arr3d[0] = 42\n",
    "arr3d\n",
    "\n",
    "arr3d[0] = old_val\n",
    "arr3d\n",
    "\n",
    "'similarmente arr3d[1,0] nos da todos los elemmos que inician con ese indice formando un arreglo de una dimencion'\n",
    "arr3d[1,0]"
   ]
  },
  {
   "cell_type": "code",
   "execution_count": 10,
   "metadata": {},
   "outputs": [
    {
     "data": {
      "text/plain": [
       "array([1, 2, 3, 4, 5])"
      ]
     },
     "execution_count": 10,
     "metadata": {},
     "output_type": "execute_result"
    }
   ],
   "source": [
    "#indexing with slices\n",
    "'al igual que los de una dimension se puede ralizar slicen 173'\n",
    "arr = np.arange(10)\n",
    "\n",
    "arr[1:6]\n",
    "\n"
   ]
  },
  {
   "cell_type": "code",
   "execution_count": 14,
   "metadata": {},
   "outputs": [
    {
     "data": {
      "text/plain": [
       "array([ True, False, False,  True, False, False, False])"
      ]
     },
     "execution_count": 14,
     "metadata": {},
     "output_type": "execute_result"
    }
   ],
   "source": [
    "#Boolean indexing\n",
    "'Para este ejemplo utilizaremos un arreglo con datos duplicados'\n",
    "names = np.array(['Bob','Joe','Will','Bob','Will','Joe','Joe'])\n",
    "data = np.random.rand(7,4)\n",
    "names\n",
    "data\n",
    "\n",
    "'Supongamos que cada nombre pertenece a un wor en el arreglo y queremos seleccionar toddas las rows correspondientes al nombre Bob'\n",
    "names == 'Bob'\n",
    "'vemos que regresa true en las posiciones encontradas'\n",
    "\n"
   ]
  }
 ],
 "metadata": {
  "kernelspec": {
   "display_name": "venv",
   "language": "python",
   "name": "python3"
  },
  "language_info": {
   "codemirror_mode": {
    "name": "ipython",
    "version": 3
   },
   "file_extension": ".py",
   "mimetype": "text/x-python",
   "name": "python",
   "nbconvert_exporter": "python",
   "pygments_lexer": "ipython3",
   "version": "3.10.9"
  },
  "orig_nbformat": 4
 },
 "nbformat": 4,
 "nbformat_minor": 2
}
